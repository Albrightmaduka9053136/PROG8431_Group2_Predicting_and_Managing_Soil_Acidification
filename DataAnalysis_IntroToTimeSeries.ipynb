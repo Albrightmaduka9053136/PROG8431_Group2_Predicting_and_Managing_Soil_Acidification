{
 "cells": [
  {
   "cell_type": "markdown",
   "id": "edc9641e",
   "metadata": {},
   "source": [
    "##### Perceived issue\n",
    "Long-term use of ammonium-based nitrogen fertilizers is acidifying soils across Canada. Falling soil pH reduces nutrient availability, increases toxic metals, and lowers crop performance — forcing farmers (including on the Prairies) to apply lime and incur extra cost."
   ]
  },
  {
   "cell_type": "markdown",
   "id": "e00d6d52",
   "metadata": {},
   "source": [
    "##### Use Case\n",
    "Build a data-driven system that predicts when and where fertilizer application will significantly lower soil pH and recommends optimized fertilizer type/amount and liming actions to maintain target pH and maximize yield while minimizing costs and inputs."
   ]
  },
  {
   "cell_type": "markdown",
   "id": "2aee5794",
   "metadata": {},
   "source": [
    "##### Null and alternative hypotheses\n",
    "```Null hypothesis (H₀)```: There is no significant relationship between nitrogen fertilizer application rates (and related management practices) and changes in soil pH or crop yield.\n",
    "\n",
    "```Alternative hypothesis (H₁)```: Higher rates/frequencies of ammonium-based nitrogen fertilizer applications (or certain management practices) are associated with a statistically significant decline in soil pH and corresponding changes in crop yield."
   ]
  }
 ],
 "metadata": {
  "language_info": {
   "name": "python"
  }
 },
 "nbformat": 4,
 "nbformat_minor": 5
}
